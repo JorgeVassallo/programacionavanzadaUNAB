{
 "cells": [
  {
   "cell_type": "code",
   "execution_count": 25,
   "id": "32fa6dc0",
   "metadata": {},
   "outputs": [
    {
     "name": "stdout",
     "output_type": "stream",
     "text": [
      "El area del rectangulo es: 24\n",
      "El perimetro del rectangulo es: 20\n"
     ]
    }
   ],
   "source": [
    "class Rectangulo:\n",
    "    def __init__(self, base, altura):\n",
    "        self.base=base\n",
    "        self.altura=altura\n",
    "    def area(self):\n",
    "        area=self.altura*self.base\n",
    "        return area\n",
    "    def perimetro(self):\n",
    "        perimetro=2*(self.altura + self.base)\n",
    "        return perimetro\n",
    "rec_1=Rectangulo(6,4)\n",
    "area=r1.area()\n",
    "perimetro=r1.perimetro()\n",
    "print(\"El area del rectangulo es:\",area)\n",
    "print(\"El perimetro del rectangulo es:\",perimetro)"
   ]
  },
  {
   "cell_type": "code",
   "execution_count": 27,
   "id": "17e8fd08",
   "metadata": {},
   "outputs": [
    {
     "name": "stdout",
     "output_type": "stream",
     "text": [
      "El area del cuadrado es: 9\n",
      "El perimetro de un cuadrado es: 12\n"
     ]
    }
   ],
   "source": [
    "class Cuadrado:\n",
    "    def __init__(self, lado):\n",
    "        self.lado=lado\n",
    "    def area(self):\n",
    "        area=self.lado ** 2\n",
    "        return area\n",
    "    def perimetro(self):\n",
    "        perimetro=self.lado*4\n",
    "        return perimetro\n",
    "cuad_1=Cuadrado(3)\n",
    "area=cuad_1.area()\n",
    "perimetro=cuad_1.perimetro()\n",
    "print(\"El area del cuadrado es:\", area)\n",
    "print(\"El perimetro de un cuadrado es:\", perimetro)"
   ]
  },
  {
   "cell_type": "code",
   "execution_count": 29,
   "id": "4fc4db4d",
   "metadata": {},
   "outputs": [
    {
     "name": "stdout",
     "output_type": "stream",
     "text": [
      "La circunferencia del circulo es: 15.707963267948966\n"
     ]
    }
   ],
   "source": [
    "import math \n",
    "class Circulo:\n",
    "    def __init__(self, diametro):\n",
    "        self.diametro=diametro\n",
    "    def circunferencia(self):\n",
    "        circunferencia=self.diametro * math.pi\n",
    "        return circunferencia\n",
    "circun_1=Circulo(5)\n",
    "circunferencia=circun_1.circunferencia()\n",
    "print(\"La circunferencia del circulo es:\", circunferencia)"
   ]
  },
  {
   "cell_type": "code",
   "execution_count": null,
   "id": "d4608868",
   "metadata": {},
   "outputs": [],
   "source": []
  }
 ],
 "metadata": {
  "kernelspec": {
   "display_name": "Python 3 (ipykernel)",
   "language": "python",
   "name": "python3"
  },
  "language_info": {
   "codemirror_mode": {
    "name": "ipython",
    "version": 3
   },
   "file_extension": ".py",
   "mimetype": "text/x-python",
   "name": "python",
   "nbconvert_exporter": "python",
   "pygments_lexer": "ipython3",
   "version": "3.9.7"
  }
 },
 "nbformat": 4,
 "nbformat_minor": 5
}
